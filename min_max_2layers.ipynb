{
  "nbformat": 4,
  "nbformat_minor": 0,
  "metadata": {
    "colab": {
      "provenance": [],
      "authorship_tag": "ABX9TyOu7urFDdMh1A79slTxtbd+",
      "include_colab_link": true
    },
    "kernelspec": {
      "name": "python3",
      "display_name": "Python 3"
    },
    "language_info": {
      "name": "python"
    }
  },
  "cells": [
    {
      "cell_type": "markdown",
      "metadata": {
        "id": "view-in-github",
        "colab_type": "text"
      },
      "source": [
        "<a href=\"https://colab.research.google.com/github/maskees/Dsa/blob/main/min_max_2layers.ipynb\" target=\"_parent\"><img src=\"https://colab.research.google.com/assets/colab-badge.svg\" alt=\"Open In Colab\"/></a>"
      ]
    },
    {
      "cell_type": "code",
      "execution_count": null,
      "metadata": {
        "colab": {
          "base_uri": "https://localhost:8080/"
        },
        "id": "38clSsg5AgOJ",
        "outputId": "d87460d6-bcf0-44d0-cf32-c02545eca5db"
      },
      "outputs": [
        {
          "output_type": "stream",
          "name": "stdout",
          "text": [
            "enter the number of leaf nodes pairs in the list 3\n",
            "enter the element in 1 leaf node in first node 3\n",
            "enter the element in 1 leaf node in second node 2\n",
            "enter the element in 1 leaf node in third node 14\n",
            "enter the element in 2 leaf node in first node 12\n",
            "enter the element in 2 leaf node in second node 4\n",
            "enter the element in 2 leaf node in third node 5\n",
            "enter the element in 3 leaf node in first node 8\n",
            "enter the element in 3 leaf node in second node 6\n",
            "enter the element in 3 leaf node in third node 2\n",
            "[[3, 12, 8], [2, 4, 6], [14, 5, 2]]\n"
          ]
        }
      ],
      "source": [
        "list_top=[]\n",
        "l1=[]\n",
        "l2=[]\n",
        "l3=[]\n",
        "n=int(input(\"enter the number of leaf nodes pairs in the list \"))\n",
        "for i in range(n):\n",
        "  l1.append(int(input(f\"enter the element in {i+1} leaf node in first node \")))\n",
        "  l2.append(int(input(f\"enter the element in {i+1} leaf node in second node \")))\n",
        "  l3.append(int(input(f\"enter the element in {i+1} leaf node in third node \")))\n",
        "list_top.append(l1)\n",
        "list_top.append(l2)\n",
        "list_top.append(l3)\n",
        "print(list_top)"
      ]
    },
    {
      "cell_type": "code",
      "source": [
        "def minimums(*l4):\n",
        "  new=[]\n",
        "  new.append(min(l1))\n",
        "  new.append(min(l2))\n",
        "  new.append(min(l3))\n",
        "  return new\n",
        "print(minimums(l1,l2,l3))\n",
        "def minimum(s):\n",
        "  new=[]\n",
        "  new.append(min(s))\n",
        "  return new\n",
        "def maximums(*l4):\n",
        "  new=[]\n",
        "  new.append(max(l1))\n",
        "  new.append(max(l2))\n",
        "  new.append(max(l3))\n",
        "  return new\n",
        "print(maximums(l1,l2,l3))\n",
        "def maximum(s):\n",
        "  new=[]\n",
        "  new.append(max(s))\n",
        "  return new\n",
        "a=int(input(\"enter number 1 for minimum and 2 for maximum \"))\n",
        "if a==1:\n",
        "  s=(minimums(l1,l2,l3))\n",
        "elif a==2:\n",
        "  s=(maximums(l1,l2,l3))\n",
        "a=int(input(\"enter number 1 for minimum and 2 for maximum \"))\n",
        "if a==1:\n",
        "  s=(minimum(s))\n",
        "elif a==2:\n",
        "  s=(maximum(s))\n",
        "print(s)"
      ],
      "metadata": {
        "colab": {
          "base_uri": "https://localhost:8080/"
        },
        "id": "uZE2DTQiGUpA",
        "outputId": "a142972e-022f-438e-bb05-18f91fb50d0e"
      },
      "execution_count": null,
      "outputs": [
        {
          "output_type": "stream",
          "name": "stdout",
          "text": [
            "[3, 2, 2]\n",
            "[12, 6, 14]\n",
            "enter number 1 for minimum and 2 for maximum 1\n",
            "enter number 1 for minimum and 2 for maximum 2\n",
            "[3]\n"
          ]
        }
      ]
    },
    {
      "cell_type": "code",
      "source": [
        "list_top=[]\n",
        "l1=[]\n",
        "l2=[]\n",
        "l3=[]\n",
        "l4=[]\n",
        "n=int(input(\"enter the number of leaf nodes pairs in the list \"))\n",
        "for i in range(n):\n",
        "  l1.append(int(input(f\"enter the element in {i+1} leaf node in first node \")))\n",
        "  l2.append(int(input(f\"enter the element in {i+1} leaf node in second node \")))\n",
        "  l3.append(int(input(f\"enter the element in {i+1} leaf node in third node \")))\n",
        "  l4.append(int(input(f\"enter the element in {i+1} leaf node in fourth node \")))\n",
        "list_top.append(l1)\n",
        "list_top.append(l2)\n",
        "list_top.append(l3)\n",
        "list_top.append(l4)\n",
        "print(list_top)"
      ],
      "metadata": {
        "id": "AesaZgwKIOSh"
      },
      "execution_count": null,
      "outputs": []
    },
    {
      "cell_type": "code",
      "source": [
        "def minimums(*l4):\n",
        "  new=[]\n",
        "  new.append(min(l1))\n",
        "  new.append(min(l2))\n",
        "  return new\n",
        "print(minimums(l1,l2,l3))\n",
        "def minimum(s):\n",
        "  new=[]\n",
        "  new.append(min(s))\n",
        "  return new\n",
        "def maximums(*l4):\n",
        "  new=[]\n",
        "  new.append(max(l1))\n",
        "  new.append(max(l2))\n",
        "  return new\n",
        "print(maximums(l1,l2,l3))\n",
        "def maximum(s):\n",
        "  new=[]\n",
        "  new.append(max(s))\n",
        "  return new\n",
        "a=int(input(\"enter number 1 for minimum and 2 for maximum \"))\n",
        "if a==1:\n",
        "  s=(minimums(l1,l2))\n",
        "  l=(minimums(l3,l4))\n",
        "elif a==2:\n",
        "  s=(maximums(l1,l2))\n",
        "  l=(maximums(l3,l4))\n",
        "a=int(input(\"enter number 1 for minimum and 2 for maximum \"))\n",
        "if a==1:\n",
        "  s=(minimum(s))\n",
        "  s.append(minimum(l))\n",
        "elif a==2:\n",
        "  s=(maximum(s))\n",
        "  s.append=(maximum(l))\n",
        "a=int(input(\"enter number 1 for minimum and 2 for maximum \"))\n",
        "if a==1:\n",
        "  s=(minimum(s))\n",
        "elif a==2:\n",
        "  s=(maximum(s))\n",
        "\n",
        "print(s)\n",
        "\n"
      ],
      "metadata": {
        "id": "O4LQihuXKrJV"
      },
      "execution_count": null,
      "outputs": []
    }
  ]
}